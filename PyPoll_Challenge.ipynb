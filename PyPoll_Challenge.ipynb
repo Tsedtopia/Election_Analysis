{
 "cells": [
  {
   "cell_type": "code",
   "execution_count": 68,
   "metadata": {},
   "outputs": [],
   "source": [
    "# -*- coding: UTF-8 -*-\n",
    "\"\"\"PyPoll Homework Challenge Solution.\"\"\"\n",
    "\n",
    "# Add our dependencies.\n",
    "import csv\n",
    "import os\n",
    "\n",
    "# Add a variable to load a file from a path.\n",
    "file_to_load = os.path.join(\"./election_results.csv\")\n",
    "# Add a variable to save the file to a path.\n",
    "file_to_save = os.path.join(\"election_analysis.txt\")"
   ]
  },
  {
   "cell_type": "code",
   "execution_count": 80,
   "metadata": {},
   "outputs": [],
   "source": [
    "# Initialize a total vote counter.\n",
    "total_votes = 0\n",
    "\n",
    "# Candidate Options and candidate votes & create dictionary\n",
    "candidate_options = []\n",
    "candidate_votes = {}\n",
    "county_options = []\n",
    "county_votes = {}"
   ]
  },
  {
   "cell_type": "code",
   "execution_count": 81,
   "metadata": {},
   "outputs": [
    {
     "name": "stdout",
     "output_type": "stream",
     "text": [
      "['Charles Casper Stockham', 'Diana DeGette', 'Raymon Anthony Doane']\n",
      "{'Charles Casper Stockham': 85213, 'Diana DeGette': 272892, 'Raymon Anthony Doane': 11606}\n",
      "369711\n"
     ]
    }
   ],
   "source": [
    "# Open file\n",
    "with open(file_to_load) as election_results:\n",
    "    file_reader=csv.reader(election_results)\n",
    "    \n",
    "    # Read the header row.\n",
    "    headers = next(file_reader)\n",
    "    \n",
    "    # Print each row in CSV file.\n",
    "    for row in file_reader:\n",
    "        #2. Add to the total vote count.\n",
    "        total_votes += 1\n",
    "        \n",
    "        # Print the candidate name from each row.\n",
    "        candidate_name = row[2]\n",
    "        \n",
    "        if candidate_name not in candidate_options:\n",
    "        \n",
    "            # Add the candidate name to the candidate list.\n",
    "            candidate_options.append(candidate_name)\n",
    "            candidate_votes[candidate_name] = 1\n",
    "            \n",
    "        else: \n",
    "            candidate_votes[candidate_name] = candidate_votes[candidate_name] + 1\n",
    "            \n",
    "# Print the candidate list And vote dictionary.\n",
    "print(candidate_options)\n",
    "print(candidate_votes)\n",
    "print(total_votes)"
   ]
  },
  {
   "cell_type": "code",
   "execution_count": 75,
   "metadata": {},
   "outputs": [],
   "source": [
    "# Initialize a total county counter\n",
    "total_county = 0"
   ]
  },
  {
   "cell_type": "code",
   "execution_count": 84,
   "metadata": {},
   "outputs": [
    {
     "name": "stdout",
     "output_type": "stream",
     "text": [
      "{'Jefferson': 116565, 'Denver': 918165, 'Arapahoe': 74403}\n"
     ]
    }
   ],
   "source": [
    "# Open file \n",
    "with open(file_to_load) as election_results:\n",
    "    file_reader=csv.reader(election_results)\n",
    "    \n",
    "    # Read the header row\n",
    "    headers = next(file_reader)\n",
    "    \n",
    "    #Print each row in csv file.\n",
    "     #2. Add to the total counties list AND counties votes\n",
    "         # Print the counties name from each row.\n",
    "    for row in file_reader:\n",
    "# 3: Extract the county name from each row.\n",
    "#county_name = row[\"3\"]   \n",
    "        county_name = row[1]\n",
    "        \n",
    "        if county_name not in county_options:\n",
    "            county_options.append(county_name)\n",
    "            county_votes[county_name] = 1\n",
    "            \n",
    "        else:\n",
    "            county_votes[county_name] = county_votes[county_name] + 1\n",
    "            \n",
    "# Track the winning candidate, vote, count and percentage\n",
    "winning_candidate = \"\"\n",
    "winning_count = 0\n",
    "winning_percentage = 0\n",
    "\n",
    "winning_county = \"\"\n",
    "winning_county_count = 0\n",
    "winning_county_percentage = 0\n",
    "\n",
    "print(county_votes)"
   ]
  },
  {
   "cell_type": "code",
   "execution_count": 95,
   "metadata": {},
   "outputs": [
    {
     "name": "stdout",
     "output_type": "stream",
     "text": [
      "Arapahoe: 31.5% (116,565)\n",
      "\n",
      "Arapahoe: 248.3% (918,165)\n",
      "\n",
      "Arapahoe: 20.1% (74,403)\n",
      "\n",
      "Denver\n",
      "-------------------------\n",
      "County Votes:{'Jefferson': 116565, 'Denver': 918165, 'Arapahoe': 74403}\n",
      "Total Votes: 369,711\n",
      "\n",
      "Election Results percentage: 20.124637892840624 %\n",
      "-------------------------\n",
      "Charles Casper Stockham: 23.0% (85,213)\n",
      "\n",
      "Diana DeGette: 73.8% (272,892)\n",
      "\n",
      "Raymon Anthony Doane: 3.1% (11,606)\n",
      "\n",
      "-------------------------\n",
      "Winner: Diana DeGette\n",
      "Winning Vote Count: 272,892\n",
      "Winning Percentage: 73.8%\n",
      "-------------------------\n",
      "\n"
     ]
    }
   ],
   "source": [
    "# 6a: Write a repetition statement to get the county from the county dictionary.\n",
    "for county in county_votes:\n",
    "# 6b: Retrieve the county vote count.\n",
    "# 6c: Calculate the percent of total votes for the county.\n",
    "# 6c: Calculate the percent of total votes for the county.\n",
    "    votes = county_votes.get(county)\n",
    "    vote_percentage = float(votes) / float(total_votes) * 100\n",
    "    county_results = (\n",
    "            f\"{county_name}: {vote_percentage:.1f}% ({votes:,})\\n\")\n",
    "    \n",
    "         # 6d: Print the county results to the terminal.\n",
    "    print(county_results)\n",
    "         # 6e: Save the county votes to a text file.\n",
    "            \n",
    "        #txt_file.write(county_results)\n",
    "    #txt_file.write(county_results)\n",
    "    \n",
    "         # 6f: Write a decision statement to determine the winning county and get its vote count.\n",
    "    if county_votes[county] > winning_county_count:\n",
    "        winning_county_count = county_votes[county]\n",
    "        winning_county = county\n",
    "        \n",
    "    # 7: Print the county with the largest turnout to the terminal.\n",
    "print(winning_county)\n",
    "\n",
    "    # 8: Save the county with the largest turnout to a text file.\n",
    "winning_county_count = votes\n",
    "winning_county_precentage = vote_percentage\n",
    "winning_county = county\n",
    "\n",
    "#txt_file.write(\"\\n\")\n",
    "    \n",
    "  # Print the final vote count by county (to terminal)\n",
    "election_results = (\n",
    "    f\"-------------------------\\n\"\n",
    "    f\"County Votes:{county_votes}\\n\"\n",
    "    f\"Total Votes: {total_votes:,}\\n\"\n",
    "    f\"\\nElection Results percentage: {vote_percentage} %\\n\"\n",
    "    f\"-------------------------\\n\")\n",
    "print(election_results, end=\"\")\n",
    "\n",
    "# txt_file.write(election_results)\n",
    "#txt_file.write(county_results)\n",
    "\n",
    "# Save the final candidate vote count to the text file.\n",
    "for candidate_name in candidate_votes:\n",
    "\n",
    "    # Retrieve vote count and percentage\n",
    "    votes = candidate_votes.get(candidate_name)\n",
    "    vote_percentage = float(votes) / float(total_votes) * 100\n",
    "    candidate_results = (f\"{candidate_name}: {vote_percentage:.1f}% ({votes:,})\\n\")\n",
    "\n",
    "    # Print each candidate's voter count and percentage to the\n",
    "    # terminal.\n",
    "    print(candidate_results)\n",
    "    #  Save the candidate results to our text file.\n",
    "   # txt_file.write(candidate_results)\n",
    "\n",
    "    # Determine winning vote count, winning percentage, and candidate.\n",
    "    if (votes > winning_count) and (vote_percentage > winning_percentage):\n",
    "        winning_count = votes\n",
    "        winning_candidate = candidate_name\n",
    "        winning_percentage = vote_percentage\n",
    "\n",
    "# Print the winning candidate (to terminal)\n",
    "winning_candidate_summary = (\n",
    "    f\"-------------------------\\n\"\n",
    "    f\"Winner: {winning_candidate}\\n\"\n",
    "    f\"Winning Vote Count: {winning_count:,}\\n\"\n",
    "    f\"Winning Percentage: {winning_percentage:.1f}%\\n\"\n",
    "    f\"-------------------------\\n\")\n",
    "print(winning_candidate_summary)\n",
    "\n",
    "# Save the winning candidate's name to the text file\n",
    "#txt_file.write(winning_candidate_summary)"
   ]
  }
 ],
 "metadata": {
  "kernelspec": {
   "display_name": "Python 3",
   "language": "python",
   "name": "python3"
  },
  "language_info": {
   "codemirror_mode": {
    "name": "ipython",
    "version": 3
   },
   "file_extension": ".py",
   "mimetype": "text/x-python",
   "name": "python",
   "nbconvert_exporter": "python",
   "pygments_lexer": "ipython3",
   "version": "3.8.5"
  }
 },
 "nbformat": 4,
 "nbformat_minor": 4
}
